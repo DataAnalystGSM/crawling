{
 "cells": [
  {
   "cell_type": "code",
   "execution_count": null,
   "metadata": {},
   "outputs": [],
   "source": [
    "%run crawling.ipynb"
   ]
  },
  {
   "cell_type": "code",
   "execution_count": null,
   "metadata": {},
   "outputs": [],
   "source": [
    "from konlpy.tag import Kkma\n",
    "kkma = Kkma()\n",
    "from konlpy.tag import Hannanum\n",
    "hannanum=Hannanum()\n",
    "from konlpy.tag import Komoran\n",
    "komoran=Komoran()\n",
    "from konlpy.tag import Okt\n",
    "okt=Okt()"
   ]
  },
  {
   "cell_type": "code",
   "execution_count": null,
   "metadata": {},
   "outputs": [],
   "source": [
    "for i in range(len(job_cards)):\n",
    "    print(job_cards[i]['main_job'])"
   ]
  },
  {
   "cell_type": "code",
   "execution_count": null,
   "metadata": {},
   "outputs": [],
   "source": [
    "len(job_cards)"
   ]
  },
  {
   "cell_type": "code",
   "execution_count": null,
   "metadata": {},
   "outputs": [],
   "source": [
    "job_cards"
   ]
  },
  {
   "cell_type": "code",
   "execution_count": null,
   "metadata": {},
   "outputs": [],
   "source": [
    "from summa import keywords\n",
    "\n",
    "# 중복을 체크할 set을 만들기\n",
    "seen = set()\n",
    "\n",
    "# 각 공고에서 명사 추출 후 중요 단어 계산\n",
    "important_jobs = []\n",
    "for job in job_cards:\n",
    "    important_task = job['main_job']\n",
    "    \n",
    "    try:\n",
    "        # 명사 추출\n",
    "        nouns = komoran.nouns(important_task)\n",
    "        \n",
    "        # 2글자 이상의 명사만 필터링\n",
    "        filtered_nouns = [noun for noun in nouns if len(noun) > 1]\n",
    "        \n",
    "        # 명사 리스트를 문자열로 변환\n",
    "        text = \" \".join(filtered_nouns)\n",
    "        \n",
    "        # 중요 단어 추출\n",
    "        important_keywords = keywords.keywords(text, words=10, split=True)  # 추출 단어 최대 10개 제한\n",
    "        \n",
    "        # 중요 단어 처리\n",
    "        if not important_keywords:  # 중요 단어가 없을 경우 원본 리스트 할당\n",
    "            job['important_keywords'] = filtered_nouns  # 오류 발생 시 원본 리스트(filtered_nouns) 할당\n",
    "        else:\n",
    "            # 중요 단어가 3개 초과일 경우 상위 5개 제한\n",
    "            important_keywords = [word for phrase in important_keywords for word in phrase.split()]  # 구문을 단어로 분리\n",
    "            job['important_keywords'] = important_keywords[:10]  # 상위 5개만 사용\n",
    "    \n",
    "    except Exception as e:\n",
    "        # 예외 처리: 오류 발생 시 원본 리스트 할당\n",
    "        print(f\"Company: {job['CO_name']}, Keywords: {filtered_nouns}\")\n",
    "        job['important_keywords'] = filtered_nouns  # 원본 명사 리스트(filtered_nouns) 할당\n",
    "\n",
    "    # 중복 확인을 위해 (회사명, 키워드) 조합으로 세트에 추가\n",
    "    keywords_tuple = tuple(job['important_keywords'])\n",
    "    if (job['CO_name'], keywords_tuple) not in seen:\n",
    "        important_jobs.append(job)  # 중복되지 않으면 추가\n",
    "        seen.add((job['CO_name'], keywords_tuple))  # 세트에 추가하여 중복을 방지\n",
    "\n",
    "# 결과 출력\n",
    "for job in important_jobs:\n",
    "    print(f\"Company: {job['CO_name']}, Keywords: {job['important_keywords']}\")\n"
   ]
  },
  {
   "cell_type": "code",
   "execution_count": null,
   "metadata": {},
   "outputs": [],
   "source": []
  }
 ],
 "metadata": {
  "kernelspec": {
   "display_name": "Python 3",
   "language": "python",
   "name": "python3"
  },
  "language_info": {
   "codemirror_mode": {
    "name": "ipython",
    "version": 3
   },
   "file_extension": ".py",
   "mimetype": "text/x-python",
   "name": "python",
   "nbconvert_exporter": "python",
   "pygments_lexer": "ipython3",
   "version": "3.11.9"
  }
 },
 "nbformat": 4,
 "nbformat_minor": 2
}
