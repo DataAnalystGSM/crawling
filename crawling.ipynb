{
 "cells": [
  {
   "cell_type": "code",
   "execution_count": 1,
   "metadata": {},
   "outputs": [],
   "source": [
    "import time\n",
    "import pandas as pd\n",
    "from selenium import webdriver\n",
    "from selenium.webdriver.common.by import By\n",
    "from selenium.webdriver.common.keys import Keys\n",
    "from selenium.webdriver.chrome.service import Service\n",
    "from selenium.webdriver.chrome.options import Options\n",
    "from selenium.webdriver.support.ui import WebDriverWait\n",
    "from webdriver_manager.chrome import ChromeDriverManager\n",
    "from selenium.webdriver.support import expected_conditions as EC"
   ]
  },
  {
   "cell_type": "code",
   "execution_count": 2,
   "metadata": {},
   "outputs": [],
   "source": [
    "driver = webdriver.Chrome(service=Service(ChromeDriverManager().install())) \n",
    "driver.get(\"https://www.wanted.co.kr/search?query=%EB%8D%B0%EC%9D%B4%ED%84%B0+%EB%B6%84%EC%84%9D%EA%B0%80&tab=position\")\n",
    "time.sleep(2)\n",
    "last_height = driver.execute_script(\"return document.body.scrollHeight\")\n",
    "while True:\n",
    "    driver.execute_script(\"window.scrollTo(0, document.body.scrollHeight);\")\n",
    "    time.sleep(1)\n",
    "    new_height = driver.execute_script(\"return document.body.scrollHeight\")\n",
    "    if new_height == last_height:\n",
    "        break\n",
    "    last_height = new_height"
   ]
  },
  {
   "cell_type": "code",
   "execution_count": 3,
   "metadata": {},
   "outputs": [],
   "source": [
    "company = []\n",
    "elements = driver.find_elements(By.XPATH, \"//a[contains(@data-position-name, '데이터 분석가') or contains(@data-position-name, '데이터분석가') or contains(@data-position-name, '데이터분석') or contains(@data-position-name, '데이터 분석') or contains(@data-position-name, 'Data Analyst') or contains(@data-position-name, 'Data 분석가')]\")\n",
    "\n",
    "for element in elements:\n",
    "    try:\n",
    "        position_name = element.find_element(By.XPATH, './/div[2]/span[1]')\n",
    "        company_name = position_name.text.strip()\n",
    "        if company_name:\n",
    "            company.append(company_name)\n",
    "            \n",
    "    except Exception as e:\n",
    "        print(f\"오류 발생: {e}\")\n",
    "        continue"
   ]
  },
  {
   "cell_type": "code",
   "execution_count": 4,
   "metadata": {},
   "outputs": [],
   "source": [
    "company_links = []\n",
    "\n",
    "elements = driver.find_elements(By.XPATH, \"//a[contains(@data-position-name, '데이터 분석가') or contains(@data-position-name, '데이터분석가') or contains(@data-position-name, '데이터분석') or contains(@data-position-name, '데이터 분석') or contains(@data-position-name, 'Data Analyst') or contains(@data-position-name, 'Data 분석가')]\")\n",
    "\n",
    "for element in elements:\n",
    "    link = element.get_attribute('href')  # 회사 링크 추출\n",
    "    if link not in company_links:  # 리스트에 링크가 없으면 추가\n",
    "        company_links.append(link)"
   ]
  },
  {
   "cell_type": "code",
   "execution_count": 5,
   "metadata": {},
   "outputs": [],
   "source": [
    "job_cards, CO_names, locations, careers, main_jobs, check_lists, good_lists = [], [], [], [], [], [], []\n",
    "\n",
    "for link in company_links:\n",
    "    driver.get(link)\n",
    "    driver.find_element(By.XPATH, '//*[@id=\"__next\"]/main/div[1]/div/section/section/article[1]/div/button/span[2]').click()\n",
    "    \n",
    "    CO_name = driver.find_element(By.XPATH, '//*[@id=\"__next\"]/main/div[1]/div/section/header/div/div[1]/a').text\n",
    "    location = driver.find_element(By.XPATH, '//*[@id=\"__next\"]/main/div[1]/div/section/header/div/div[1]/span[2]').text\n",
    "    career = driver.find_element(By.XPATH, '//*[@id=\"__next\"]/main/div[1]/div/section/header/div/div[1]/span[4]').text\n",
    "    main_job = driver.find_element(By.XPATH, '//*[@id=\"__next\"]/main/div[1]/div/section/section/article[1]/div/div[1]/span').text\n",
    "    check_list = driver.find_element(By.XPATH, '//*[@id=\"__next\"]/main/div[1]/div/section/section/article[1]/div/div[2]/span').text\n",
    "    good_list = driver.find_element(By.XPATH, '//*[@id=\"__next\"]/main/div[1]/div/section/section/article[1]/div/div[3]/span').text\n",
    "     \n",
    "    # 데이터 저장\n",
    "    job_cards.append({\n",
    "        'CO_name': CO_name,\n",
    "        'location': location,\n",
    "        'career': career,\n",
    "        'main_job': main_job,\n",
    "        'check_list': check_list,\n",
    "        'good_list': good_list\n",
    "    })\n",
    "    CO_names.append(CO_name)\n",
    "    locations.append(location)\n",
    "    careers.append(career)\n",
    "    main_jobs.append(main_job)\n",
    "    check_lists.append(check_list)\n",
    "    good_lists.append(good_list)\n",
    "driver.quit()"
   ]
  },
  {
   "cell_type": "code",
   "execution_count": null,
   "metadata": {},
   "outputs": [],
   "source": []
  }
 ],
 "metadata": {
  "kernelspec": {
   "display_name": "Python 3",
   "language": "python",
   "name": "python3"
  },
  "language_info": {
   "codemirror_mode": {
    "name": "ipython",
    "version": 3
   },
   "file_extension": ".py",
   "mimetype": "text/x-python",
   "name": "python",
   "nbconvert_exporter": "python",
   "pygments_lexer": "ipython3",
   "version": "3.11.9"
  }
 },
 "nbformat": 4,
 "nbformat_minor": 2
}
